{
 "cells": [
  {
   "cell_type": "markdown",
   "metadata": {},
   "source": [
    "# Homework 1"
   ]
  },
  {
   "cell_type": "markdown",
   "metadata": {},
   "source": [
    "## Problem 1 \n",
    "A famous collection of data on whether a patient has diabetes, known as the Pima Indians dataset, and originally owned by the National Institute of Diabetes and Digestive and Kidney Diseases can be found at Kaggle. Download this dataset from https://www.kaggle.com/kumargh/pimaindiansdiabetescsv. This data has a set of attributes of patients, and a categorical variable telling whether the patient is diabetic or not. For several attributes in this data set, a value of 0 may indicate a missing value of the variable. There are a total of 767 data-points.\n",
    "\n",
    "### Part 1A\n",
    "Build a simple naive Bayes classifier to classify this data set. You should use a normal distribution to model each of the class-conditional distributions. You should write this classifier yourself (it's quite straight-forward). Compute an estimate of the accuracy of the classifier by averaging over 10 test-train splits. Each split should randomly assign 20% of the data to test, and the rest to train."
   ]
  },
  {
   "cell_type": "code",
   "execution_count": 3,
   "metadata": {},
   "outputs": [
    {
     "ename": "ERROR",
     "evalue": "Error in library(klaR): there is no package called ‘klaR’\n",
     "output_type": "error",
     "traceback": [
      "Error in library(klaR): there is no package called ‘klaR’\nTraceback:\n",
      "1. library(klaR)",
      "2. stop(txt, domain = NA)"
     ]
    }
   ],
   "source": [
    "# set current path\n",
    "setwd('.')\n",
    "\n",
    "# read data file\n",
    "wdat<-read.csv('pima-indians-diabetes.csv', header=FALSE)\n",
    "\n",
    "library(klaR)\n",
    "library(caret)\n",
    "\n",
    "bigx<-wdat[,-c(9)]\n",
    "bigy<-wdat[,9]\n",
    "trscore<-array(dim=10)\n",
    "tescore<-array(dim=10)\n",
    "for (wi in 1:10)\n",
    "{wtd<-createDataPartition(y=bigy, p=.8, list=FALSE)\n",
    " nbx<-bigx\n",
    " ntrbx<-nbx[wtd, ]\n",
    " ntrby<-bigy[wtd]\n",
    " trposflag<-ntrby>0\n",
    " ptregs<-ntrbx[trposflag, ]\n",
    " ntregs<-ntrbx[!trposflag,]\n",
    " ntebx<-nbx[-wtd, ]\n",
    " nteby<-bigy[-wtd]\n",
    " ptrmean<-sapply(ptregs, mean, na.rm=TRUE)\n",
    " ntrmean<-sapply(ntregs, mean, na.rm=TRUE)\n",
    " ptrsd<-sapply(ptregs, sd, na.rm=TRUE)\n",
    " ntrsd<-sapply(ntregs, sd, na.rm=TRUE)\n",
    " ptroffsets<-t(t(ntrbx)-ptrmean)\n",
    " ptrscales<-t(t(ptroffsets)/ptrsd)\n",
    " ptrlogs<--(1/2)*rowSums(apply(ptrscales,c(1, 2), function(x)x^2), na.rm=TRUE)-sum(log(ptrsd))\n",
    " ntroffsets<-t(t(ntrbx)-ntrmean)\n",
    " ntrscales<-t(t(ntroffsets)/ntrsd)\n",
    " ntrlogs<--(1/2)*rowSums(apply(ntrscales,c(1, 2), function(x)x^2), na.rm=TRUE)-sum(log(ntrsd))\n",
    " lvwtr<-ptrlogs>ntrlogs\n",
    " gotrighttr<-lvwtr==ntrby\n",
    " trscore[wi]<-sum(gotrighttr)/(sum(gotrighttr)+sum(!gotrighttr))\n",
    " pteoffsets<-t(t(ntebx)-ptrmean)\n",
    " ptescales<-t(t(pteoffsets)/ptrsd)\n",
    " ptelogs<--(1/2)*rowSums(apply(ptescales,c(1, 2), function(x)x^2), na.rm=TRUE)-sum(log(ptrsd))\n",
    " nteoffsets<-t(t(ntebx)-ntrmean)\n",
    " ntescales<-t(t(nteoffsets)/ntrsd)\n",
    " ntelogs<--(1/2)*rowSums(apply(ntescales,c(1, 2), function(x)x^2), na.rm=TRUE)-sum(log(ntrsd))\n",
    " lvwte<-ptelogs>ntelogs\n",
    " gotright<-lvwte==nteby\n",
    " tescore[wi]<-sum(gotright)/(sum(gotright)+sum(!gotright))\n",
    "}"
   ]
  },
  {
   "cell_type": "markdown",
   "metadata": {},
   "source": [
    "\n",
    "https://zhuanlan.zhihu.com/p/25328369\n",
    "\n",
    "本文主要学习使用R语言中的klaR包与e1071包中的朴素贝叶斯分类函数，数据使用的仍是上篇文章中从UCI上下载的bank数据\n",
    "下载地址：<a target=_blank href=\"http://archive.ics.uci.edu/ml/datasets/Bank+Marketing\">http://archive.ics.uci.edu/ml/datasets/Bank+Marketing</a>\n",
    " \n",
    "bank <- read.csv(\"D:/data/MachineLearning/bank/bank.csv\",header=T,sep=\";\")#读取数据\n",
    "n <- nrow(bank)\n",
    "bank_train <- bank[1:4000,]#对源数据进行分割\n",
    "bank_test <- bank[4001:n,1:16]\n",
    "bank_test1 <- bank[4001:n,]\n",
    "library(klaR)#加载klaR包\n",
    "bfit <- NaiveBayes(y~age+job+marital+education+default+balance+housing+loan+contact\n",
    "                   +day+month+duration+campaign+pdays+previous+poutcome,bank,na.action=na.pass)\n",
    "#训练模型\n",
    "result <- predict(bfit,bank_test)#对测试数据进行预测\n",
    "result_1 <- data.frame(result)\n",
    "result_2 <- result_1[,1]\n",
    "source(\"D:/work/R_work/count_result.R\")#加载我们自己写的统计函数\n",
    "count_result(result_2,bank_test1)#计算正确率\n",
    "library(e1071)#加载e1701包\n",
    "efit <- naiveBayes(y~age+job+marital+education+default+balance+housing+loan+contact\n",
    "                   +day+month+duration+campaign+pdays+previous+poutcome,bank_train)\n",
    "eresult <- predict(efit,bank_test)\n",
    "count_result(eresult,bank_test1)\n",
    "#klaR包与e1071包都可以做朴素贝叶斯分类，本次试验中，klaR包在使用的时候会出现警告，但不影响预测\n",
    "#运算，具体原因有待进一步探索"
   ]
  },
  {
   "cell_type": "code",
   "execution_count": null,
   "metadata": {},
   "outputs": [],
   "source": []
  }
 ],
 "metadata": {
  "kernelspec": {
   "display_name": "R",
   "language": "R",
   "name": "ir"
  },
  "language_info": {
   "codemirror_mode": "r",
   "file_extension": ".r",
   "mimetype": "text/x-r-source",
   "name": "R",
   "pygments_lexer": "r",
   "version": "3.5.0"
  }
 },
 "nbformat": 4,
 "nbformat_minor": 2
}
